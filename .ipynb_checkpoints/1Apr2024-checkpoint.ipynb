{
 "cells": [
  {
   "cell_type": "code",
   "execution_count": 1,
   "id": "313d51aa-43b1-4e60-a60e-a85f8c88df36",
   "metadata": {},
   "outputs": [
    {
     "name": "stdout",
     "output_type": "stream",
     "text": [
      "Requirement already satisfied: scikit-fuzzy in c:\\users\\mehta\\appdata\\local\\programs\\python\\python312\\lib\\site-packages (0.4.2)\n",
      "Requirement already satisfied: numpy>=1.6.0 in c:\\users\\mehta\\appdata\\local\\programs\\python\\python312\\lib\\site-packages (from scikit-fuzzy) (1.26.4)\n",
      "Requirement already satisfied: scipy>=0.9.0 in c:\\users\\mehta\\appdata\\local\\programs\\python\\python312\\lib\\site-packages (from scikit-fuzzy) (1.12.0)\n",
      "Requirement already satisfied: networkx>=1.9.0 in c:\\users\\mehta\\appdata\\local\\programs\\python\\python312\\lib\\site-packages (from scikit-fuzzy) (3.2.1)\n",
      "Note: you may need to restart the kernel to use updated packages.\n"
     ]
    }
   ],
   "source": [
    "pip install scikit-fuzzy"
   ]
  },
  {
   "cell_type": "code",
   "execution_count": 4,
   "id": "c02f0198-badd-4df4-860d-1dea04f71628",
   "metadata": {},
   "outputs": [
    {
     "ename": "ModuleNotFoundError",
     "evalue": "No module named 'distutils'",
     "output_type": "error",
     "traceback": [
      "\u001b[1;31m---------------------------------------------------------------------------\u001b[0m",
      "\u001b[1;31mModuleNotFoundError\u001b[0m                       Traceback (most recent call last)",
      "Cell \u001b[1;32mIn[4], line 2\u001b[0m\n\u001b[0;32m      1\u001b[0m \u001b[38;5;28;01mimport\u001b[39;00m \u001b[38;5;21;01mnumpy\u001b[39;00m \u001b[38;5;28;01mas\u001b[39;00m \u001b[38;5;21;01mnp\u001b[39;00m\n\u001b[1;32m----> 2\u001b[0m \u001b[38;5;28;01mimport\u001b[39;00m \u001b[38;5;21;01mskfuzzy\u001b[39;00m \u001b[38;5;28;01mas\u001b[39;00m \u001b[38;5;21;01mfuzz\u001b[39;00m\n\u001b[0;32m      3\u001b[0m \u001b[38;5;28;01mfrom\u001b[39;00m \u001b[38;5;21;01mskfuzzy\u001b[39;00m \u001b[38;5;28;01mimport\u001b[39;00m control \u001b[38;5;28;01mas\u001b[39;00m ctrl\n\u001b[0;32m      5\u001b[0m \u001b[38;5;66;03m# Define fuzzy variables\u001b[39;00m\n",
      "File \u001b[1;32m~\\AppData\\Local\\Programs\\Python\\Python312\\Lib\\site-packages\\skfuzzy\\__init__.py:44\u001b[0m\n\u001b[0;32m     41\u001b[0m __all__\u001b[38;5;241m.\u001b[39mextend(_intervals\u001b[38;5;241m.\u001b[39m__all__)\n\u001b[0;32m     43\u001b[0m \u001b[38;5;66;03m# Filtering subpackage, including 1D and 2D FIRE functions\u001b[39;00m\n\u001b[1;32m---> 44\u001b[0m \u001b[38;5;28;01mimport\u001b[39;00m \u001b[38;5;21;01mskfuzzy\u001b[39;00m\u001b[38;5;21;01m.\u001b[39;00m\u001b[38;5;21;01mfilters\u001b[39;00m \u001b[38;5;28;01mas\u001b[39;00m \u001b[38;5;21;01m_filters\u001b[39;00m\n\u001b[0;32m     45\u001b[0m \u001b[38;5;28;01mfrom\u001b[39;00m \u001b[38;5;21;01mskfuzzy\u001b[39;00m\u001b[38;5;21;01m.\u001b[39;00m\u001b[38;5;21;01mfilters\u001b[39;00m \u001b[38;5;28;01mimport\u001b[39;00m \u001b[38;5;241m*\u001b[39m\n\u001b[0;32m     46\u001b[0m __all__\u001b[38;5;241m.\u001b[39mextend(_filters\u001b[38;5;241m.\u001b[39m__all__)\n",
      "File \u001b[1;32m~\\AppData\\Local\\Programs\\Python\\Python312\\Lib\\site-packages\\skfuzzy\\filters\\__init__.py:9\u001b[0m\n\u001b[0;32m      1\u001b[0m \u001b[38;5;124;03m\"\"\"\u001b[39;00m\n\u001b[0;32m      2\u001b[0m \u001b[38;5;124;03mskfuzzy.filters : Subpackage for filtering data, e.g. with Fuzzy Inference by\u001b[39;00m\n\u001b[0;32m      3\u001b[0m \u001b[38;5;124;03m    Else-action (FIRE) filters to denoise 1d or 2d data.\u001b[39;00m\n\u001b[0;32m      4\u001b[0m \n\u001b[0;32m      5\u001b[0m \u001b[38;5;124;03m\"\"\"\u001b[39;00m\n\u001b[0;32m      6\u001b[0m __all__ \u001b[38;5;241m=\u001b[39m [\u001b[38;5;124m'\u001b[39m\u001b[38;5;124mfire1d\u001b[39m\u001b[38;5;124m'\u001b[39m,\n\u001b[0;32m      7\u001b[0m            \u001b[38;5;124m'\u001b[39m\u001b[38;5;124mfire2d\u001b[39m\u001b[38;5;124m'\u001b[39m]\n\u001b[1;32m----> 9\u001b[0m \u001b[38;5;28;01mfrom\u001b[39;00m \u001b[38;5;21;01m.\u001b[39;00m\u001b[38;5;21;01mfire\u001b[39;00m \u001b[38;5;28;01mimport\u001b[39;00m fire1d, fire2d\n",
      "File \u001b[1;32m~\\AppData\\Local\\Programs\\Python\\Python312\\Lib\\site-packages\\skfuzzy\\filters\\fire.py:7\u001b[0m\n\u001b[0;32m      1\u001b[0m \u001b[38;5;124;03m\"\"\"\u001b[39;00m\n\u001b[0;32m      2\u001b[0m \u001b[38;5;124;03mfire.py : Collection of Fuzzy Inference Ruled by ELSE-action (FIRE) filters.\u001b[39;00m\n\u001b[0;32m      3\u001b[0m \n\u001b[0;32m      4\u001b[0m \u001b[38;5;124;03m\"\"\"\u001b[39;00m\n\u001b[0;32m      6\u001b[0m \u001b[38;5;28;01mimport\u001b[39;00m \u001b[38;5;21;01mnumpy\u001b[39;00m \u001b[38;5;28;01mas\u001b[39;00m \u001b[38;5;21;01mnp\u001b[39;00m\n\u001b[1;32m----> 7\u001b[0m \u001b[38;5;28;01mfrom\u001b[39;00m \u001b[38;5;21;01m.\u001b[39;00m\u001b[38;5;21;01m.\u001b[39;00m\u001b[38;5;21;01mimage\u001b[39;00m \u001b[38;5;28;01mimport\u001b[39;00m view_as_windows\n\u001b[0;32m      8\u001b[0m \u001b[38;5;28;01mfrom\u001b[39;00m \u001b[38;5;21;01m.\u001b[39;00m\u001b[38;5;21;01m.\u001b[39;00m\u001b[38;5;21;01mmembership\u001b[39;00m \u001b[38;5;28;01mimport\u001b[39;00m trimf\n\u001b[0;32m     11\u001b[0m \u001b[38;5;28;01mdef\u001b[39;00m \u001b[38;5;21mfire1d\u001b[39m(x, l1\u001b[38;5;241m=\u001b[39m\u001b[38;5;241m0\u001b[39m, l2\u001b[38;5;241m=\u001b[39m\u001b[38;5;241m1\u001b[39m):\n",
      "File \u001b[1;32m~\\AppData\\Local\\Programs\\Python\\Python312\\Lib\\site-packages\\skfuzzy\\image\\__init__.py:16\u001b[0m\n\u001b[0;32m     13\u001b[0m \u001b[38;5;28;01mfrom\u001b[39;00m \u001b[38;5;21;01m.\u001b[39;00m\u001b[38;5;21;01mmetrics\u001b[39;00m \u001b[38;5;28;01mimport\u001b[39;00m nmse\n\u001b[0;32m     15\u001b[0m \u001b[38;5;28;01mimport\u001b[39;00m \u001b[38;5;21;01mnumpy\u001b[39;00m \u001b[38;5;28;01mas\u001b[39;00m \u001b[38;5;21;01mnp\u001b[39;00m\n\u001b[1;32m---> 16\u001b[0m \u001b[38;5;28;01mfrom\u001b[39;00m \u001b[38;5;21;01mdistutils\u001b[39;00m\u001b[38;5;21;01m.\u001b[39;00m\u001b[38;5;21;01mversion\u001b[39;00m \u001b[38;5;28;01mimport\u001b[39;00m LooseVersion\n\u001b[0;32m     17\u001b[0m \u001b[38;5;28;01mif\u001b[39;00m LooseVersion(np\u001b[38;5;241m.\u001b[39m__version__) \u001b[38;5;241m>\u001b[39m LooseVersion(\u001b[38;5;124m\"\u001b[39m\u001b[38;5;124m1.8\u001b[39m\u001b[38;5;124m\"\u001b[39m):\n\u001b[0;32m     18\u001b[0m \t\u001b[38;5;28;01mfrom\u001b[39;00m \u001b[38;5;21;01mnumpy\u001b[39;00m \u001b[38;5;28;01mimport\u001b[39;00m pad\n",
      "\u001b[1;31mModuleNotFoundError\u001b[0m: No module named 'distutils'"
     ]
    }
   ],
   "source": [
    "import numpy as np\n",
    "import skfuzzy as fuzz\n",
    "from skfuzzy import control as ctrl\n",
    "\n",
    "# Define fuzzy variables\n",
    "service = ctrl.Antecedent(np.arange(0, 11, 1), \n",
    "                              'service')\n",
    "quality = ctrl.Antecedent(np.arange(0, 11, 1), \n",
    "                           'quality')\n",
    "tip = ctrl.Consequent(np.arange(0, 26, 1), \n",
    "                            'tip')\n",
    "\n",
    "# Define membership functions\n",
    "'''service['poor'] = fuzz.trimf(service.universe, \n",
    "                                 [0, 0, 3])\n",
    "service['average'] = fuzz.trimf(service.universe, \n",
    "                                   [2, 5, 8])\n",
    "service['good'] = fuzz.trimf(service.universe, \n",
    "                                [5, 10, 10])\n",
    "\n",
    "quality['poor'] = fuzz.trimf(quality.universe, \n",
    "                                 [0, 0, 4])\n",
    "quality['average'] = fuzz.trimf(quality.universe, \n",
    "                                   [3, 5, 8])\n",
    "quality['good'] = fuzz.trimf(quality.universe, \n",
    "                                [5, 10, 10])'''\n",
    "service.automf(3)\n",
    "quality.automf(3)\n",
    "\n",
    "tip['low'] = fuzz.trimf(tip.universe, [0, 0, 13])\n",
    "tip['medium'] = fuzz.trimf(tip.universe, [0, 13, 25])\n",
    "tip['high'] = fuzz.trimf(tip.universe, [13, 25, 25])\n",
    "\n",
    "# Define fuzzy rules\n",
    "rule1 = ctrl.Rule(service['poor'] | quality['poor'], \n",
    "                  tip['low'])\n",
    "rule2 = ctrl.Rule(service['average'] | quality['average'],\n",
    "                  tip['medium'])\n",
    "rule3 = ctrl.Rule(service['good'] | quality['good'], \n",
    "                  tip['high'])\n",
    "\n",
    "# Create the FIS\n",
    "fis = ctrl.ControlSystem([rule1, rule2, rule3])\n",
    "tip_per = ctrl.ControlSystemSimulation(fis)\n",
    "\n",
    "# Pass inputs to the FIS and compute the output\n",
    "tip_per.input['service'] = float(input(\"Enter service rating:\"))\n",
    "tip_per.input['quality'] = float(input(\"Enter quality rating:\"))\n",
    "tip_per.compute()\n",
    "\n",
    "# Print the output\n",
    "print(\"Tip percentage:\", tip_per.output['tip'])"
   ]
  },
  {
   "cell_type": "code",
   "execution_count": null,
   "id": "3b4ae522-ce21-413f-a45a-4a0c16bf5444",
   "metadata": {},
   "outputs": [],
   "source": []
  }
 ],
 "metadata": {
  "kernelspec": {
   "display_name": "Python 3 (ipykernel)",
   "language": "python",
   "name": "python3"
  },
  "language_info": {
   "codemirror_mode": {
    "name": "ipython",
    "version": 3
   },
   "file_extension": ".py",
   "mimetype": "text/x-python",
   "name": "python",
   "nbconvert_exporter": "python",
   "pygments_lexer": "ipython3",
   "version": "3.12.1"
  }
 },
 "nbformat": 4,
 "nbformat_minor": 5
}
