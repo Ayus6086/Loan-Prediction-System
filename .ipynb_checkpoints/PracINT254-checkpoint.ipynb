{
 "cells": [
  {
   "cell_type": "code",
   "execution_count": 61,
   "id": "14d15e9f-d850-419d-8d5f-91a8cebfac4a",
   "metadata": {},
   "outputs": [],
   "source": [
    "distance = [10,15,17,26]\n",
    "time = [0.3, 0.47, 0.55, 1.20]"
   ]
  },
  {
   "cell_type": "code",
   "execution_count": 62,
   "id": "07365c73-6acd-4dae-9105-0b63eb629cda",
   "metadata": {},
   "outputs": [],
   "source": [
    "import numpy as np"
   ]
  },
  {
   "cell_type": "code",
   "execution_count": 63,
   "id": "1aa707e9-8b83-4e60-9bce-317c6c07161e",
   "metadata": {},
   "outputs": [],
   "source": [
    "np_distance = np.array(distance)\n",
    "np_time = np.array(time)"
   ]
  },
  {
   "cell_type": "code",
   "execution_count": 64,
   "id": "d3b910fd-f981-4b48-be47-4088de500b10",
   "metadata": {},
   "outputs": [
    {
     "name": "stdout",
     "output_type": "stream",
     "text": [
      "[33.33333333 31.91489362 30.90909091 21.66666667]\n"
     ]
    }
   ],
   "source": [
    "np_speed = np_distance/ np_time\n",
    "print(np_speed)"
   ]
  },
  {
   "cell_type": "code",
   "execution_count": 65,
   "id": "8bae8bb6-858e-40b6-b091-fdb2266af582",
   "metadata": {},
   "outputs": [],
   "source": [
    "#classes and attributes of ndarray\n",
    "np_city = np.array(['NYC', 'LA', 'Miami', 'Houstoun'])"
   ]
  },
  {
   "cell_type": "code",
   "execution_count": 66,
   "id": "1e3f6b9b-ada2-4916-bcb3-3ec6e8baa3b3",
   "metadata": {},
   "outputs": [
    {
     "data": {
      "text/plain": [
       "1"
      ]
     },
     "execution_count": 66,
     "metadata": {},
     "output_type": "execute_result"
    }
   ],
   "source": [
    "np_city.ndim"
   ]
  },
  {
   "cell_type": "code",
   "execution_count": 67,
   "id": "08a4f88b-e93e-4775-b5c0-aa75b40ff2cb",
   "metadata": {},
   "outputs": [],
   "source": [
    "np_city_with_state = np.array([['NYC', 'LA', 'Miami', 'Houstoun'], ['NY', 'USA', 'AUS', 'NZ']])"
   ]
  },
  {
   "cell_type": "code",
   "execution_count": 68,
   "id": "554a383b-0427-4ae7-be77-76ce08fc4baa",
   "metadata": {},
   "outputs": [
    {
     "data": {
      "text/plain": [
       "2"
      ]
     },
     "execution_count": 68,
     "metadata": {},
     "output_type": "execute_result"
    }
   ],
   "source": [
    "np_city_with_state.ndim"
   ]
  },
  {
   "cell_type": "code",
   "execution_count": 69,
   "id": "6defb10f-bd41-47a0-beae-bfda9d189f2b",
   "metadata": {},
   "outputs": [
    {
     "data": {
      "text/plain": [
       "(4,)"
      ]
     },
     "execution_count": 69,
     "metadata": {},
     "output_type": "execute_result"
    }
   ],
   "source": [
    "np_city.shape"
   ]
  },
  {
   "cell_type": "code",
   "execution_count": 70,
   "id": "709155a6-ab23-4602-b879-954928e28bae",
   "metadata": {},
   "outputs": [
    {
     "data": {
      "text/plain": [
       "(2, 4)"
      ]
     },
     "execution_count": 70,
     "metadata": {},
     "output_type": "execute_result"
    }
   ],
   "source": [
    "np_city_with_state.shape"
   ]
  },
  {
   "cell_type": "code",
   "execution_count": 71,
   "id": "cd152e64-8099-40d8-b20a-ef2a6ef71b17",
   "metadata": {},
   "outputs": [
    {
     "data": {
      "text/plain": [
       "dtype('<U8')"
      ]
     },
     "execution_count": 71,
     "metadata": {},
     "output_type": "execute_result"
    }
   ],
   "source": [
    "np_city.dtype"
   ]
  },
  {
   "cell_type": "code",
   "execution_count": 72,
   "id": "e5d9320e-b80f-451d-8e87-b01369d078da",
   "metadata": {},
   "outputs": [
    {
     "data": {
      "text/plain": [
       "dtype('<U8')"
      ]
     },
     "execution_count": 72,
     "metadata": {},
     "output_type": "execute_result"
    }
   ],
   "source": [
    "np_city_with_state.dtype"
   ]
  },
  {
   "cell_type": "code",
   "execution_count": 73,
   "id": "2b3679da-b680-4428-8ad8-6921ec5e31d4",
   "metadata": {},
   "outputs": [
    {
     "name": "stdout",
     "output_type": "stream",
     "text": [
      "<U8\n"
     ]
    }
   ],
   "source": [
    "print(np_city.dtype)"
   ]
  },
  {
   "cell_type": "code",
   "execution_count": 74,
   "id": "69e5fee6-6faf-4c73-9c62-8c0a7b79a394",
   "metadata": {},
   "outputs": [],
   "source": [
    "#basic oprations on an array"
   ]
  },
  {
   "cell_type": "code",
   "execution_count": 75,
   "id": "17c7f0d7-fc97-41a6-a1a2-f58117335d8f",
   "metadata": {},
   "outputs": [],
   "source": [
    "first_trail_cyclist = [10,15,17,26]\n",
    "second_trail_cyclist = [12,14,19,56]"
   ]
  },
  {
   "cell_type": "code",
   "execution_count": 76,
   "id": "289b0ba5-5481-4427-905d-f89a5dcd7b2b",
   "metadata": {},
   "outputs": [],
   "source": [
    "np_first = np.array(first_trail_cyclist)\n",
    "np_second= np.array(second_trail_cyclist)"
   ]
  },
  {
   "cell_type": "code",
   "execution_count": 77,
   "id": "55124d65-3d5a-4da7-9d88-cc0354bd7519",
   "metadata": {},
   "outputs": [
    {
     "data": {
      "text/plain": [
       "array([22, 29, 36, 82])"
      ]
     },
     "execution_count": 77,
     "metadata": {},
     "output_type": "execute_result"
    }
   ],
   "source": [
    "total_distance = np_first + np_second\n",
    "total_distance"
   ]
  },
  {
   "cell_type": "code",
   "execution_count": 78,
   "id": "193f195c-85b7-489f-b7ea-9353ed9365d2",
   "metadata": {},
   "outputs": [
    {
     "name": "stdout",
     "output_type": "stream",
     "text": [
      "[22 29 36 82]\n"
     ]
    }
   ],
   "source": [
    "print(total_distance)"
   ]
  },
  {
   "cell_type": "code",
   "execution_count": 79,
   "id": "f4d163f8-0440-4540-8fd2-f387a3b4905a",
   "metadata": {},
   "outputs": [
    {
     "data": {
      "text/plain": [
       "(4,)"
      ]
     },
     "execution_count": 79,
     "metadata": {},
     "output_type": "execute_result"
    }
   ],
   "source": [
    "total_distance.shape"
   ]
  },
  {
   "cell_type": "code",
   "execution_count": 80,
   "id": "6637a5c1-df61-480f-922e-77cc5f634684",
   "metadata": {},
   "outputs": [],
   "source": [
    "#Accees the array elements\n",
    "cyclist_trails = np.array([first_trail_cyclist,second_trail_cyclist])"
   ]
  },
  {
   "cell_type": "code",
   "execution_count": 81,
   "id": "8f2ee809-1efd-43dd-9f77-603823b88e59",
   "metadata": {},
   "outputs": [
    {
     "name": "stdout",
     "output_type": "stream",
     "text": [
      "[10 15 17 26]\n"
     ]
    }
   ],
   "source": [
    "first_trail =  cyclist_trails[0]\n",
    "print(first_trail)"
   ]
  },
  {
   "cell_type": "code",
   "execution_count": 82,
   "id": "d2bb81a0-4b41-4df6-aa09-b05660a2d264",
   "metadata": {},
   "outputs": [
    {
     "name": "stdout",
     "output_type": "stream",
     "text": [
      "[10]\n"
     ]
    }
   ],
   "source": [
    "second_trail =  cyclist_trails[[0],[0]]\n",
    "print(second_trail)"
   ]
  },
  {
   "cell_type": "code",
   "execution_count": 83,
   "id": "b23d329f-1abd-4608-aa80-5f93233be294",
   "metadata": {},
   "outputs": [
    {
     "name": "stdout",
     "output_type": "stream",
     "text": [
      "[10 12]\n"
     ]
    }
   ],
   "source": [
    "element_trail =  cyclist_trails[:,0]\n",
    "print(element_trail)"
   ]
  },
  {
   "cell_type": "code",
   "execution_count": 84,
   "id": "2a99a7a7-5883-4f00-b935-2ae60a5e4516",
   "metadata": {},
   "outputs": [
    {
     "data": {
      "text/plain": [
       "(2, 4)"
      ]
     },
     "execution_count": 84,
     "metadata": {},
     "output_type": "execute_result"
    }
   ],
   "source": [
    "cyclist_trails.shape"
   ]
  },
  {
   "cell_type": "code",
   "execution_count": 85,
   "id": "f7f0be69-ffa3-4fc3-887f-5393d49d8405",
   "metadata": {},
   "outputs": [
    {
     "data": {
      "text/plain": [
       "array([[15, 17],\n",
       "       [14, 19]])"
      ]
     },
     "execution_count": 85,
     "metadata": {},
     "output_type": "execute_result"
    }
   ],
   "source": [
    "two_cyclist_trails_data = cyclist_trails[:,1:3]\n",
    "two_cyclist_trails_data"
   ]
  },
  {
   "cell_type": "code",
   "execution_count": 86,
   "id": "b2d2502b-b745-47c4-9884-8442d6b50cdb",
   "metadata": {},
   "outputs": [
    {
     "name": "stdout",
     "output_type": "stream",
     "text": [
      "[10 15 17 26]\n",
      "[12 14 19 56]\n"
     ]
    }
   ],
   "source": [
    "#Accesing array elements: iterations\n",
    "for i in cyclist_trails:\n",
    "    print(i)"
   ]
  },
  {
   "cell_type": "code",
   "execution_count": 87,
   "id": "95e04fda-8246-44fd-8657-bd1c5c63535a",
   "metadata": {},
   "outputs": [
    {
     "name": "stdout",
     "output_type": "stream",
     "text": [
      "[15 17]\n",
      "[14 19]\n"
     ]
    }
   ],
   "source": [
    "for j in two_cyclist_trails_data:\n",
    "    print(j)"
   ]
  },
  {
   "cell_type": "code",
   "execution_count": 88,
   "id": "62097553-2f80-4436-8937-fdf47fad08e7",
   "metadata": {},
   "outputs": [],
   "source": [
    "#Indexing with boolean ararys\n",
    "test_scores = np.array([[83, 71, 63, 57], [54, 68, 81, 45]])"
   ]
  },
  {
   "cell_type": "code",
   "execution_count": 89,
   "id": "bafa3af2-ff6d-4dc8-9bc7-b6d81f1d7e30",
   "metadata": {},
   "outputs": [],
   "source": [
    "pass_score = test_scores>60"
   ]
  },
  {
   "cell_type": "code",
   "execution_count": 90,
   "id": "941a0611-aa6d-48e1-a01c-c11cc94b8fd2",
   "metadata": {},
   "outputs": [
    {
     "name": "stdout",
     "output_type": "stream",
     "text": [
      "[[ True  True  True False]\n",
      " [False  True  True False]]\n"
     ]
    }
   ],
   "source": [
    "print(pass_score)"
   ]
  },
  {
   "cell_type": "code",
   "execution_count": 91,
   "id": "7ba8051a-e9cc-47e5-a04e-6f7ced62c6a5",
   "metadata": {},
   "outputs": [
    {
     "data": {
      "text/plain": [
       "array([83, 71, 63, 68, 81])"
      ]
     },
     "execution_count": 91,
     "metadata": {},
     "output_type": "execute_result"
    }
   ],
   "source": [
    "test_scores[pass_score]"
   ]
  },
  {
   "cell_type": "code",
   "execution_count": 92,
   "id": "67ce45e2-79c7-47f1-a573-9b6c128c1569",
   "metadata": {},
   "outputs": [
    {
     "data": {
      "text/plain": [
       "(2, 4)"
      ]
     },
     "execution_count": 92,
     "metadata": {},
     "output_type": "execute_result"
    }
   ],
   "source": [
    "test_scores.shape"
   ]
  },
  {
   "cell_type": "code",
   "execution_count": 93,
   "id": "328e9332-04ef-47db-b6fa-7a7174ac2a12",
   "metadata": {},
   "outputs": [
    {
     "data": {
      "text/plain": [
       "array([[ True,  True,  True, False],\n",
       "       [False,  True,  True, False]])"
      ]
     },
     "execution_count": 93,
     "metadata": {},
     "output_type": "execute_result"
    }
   ],
   "source": [
    "pass_score | pass_score"
   ]
  },
  {
   "cell_type": "code",
   "execution_count": 94,
   "id": "e3117e54-c9b6-47a2-a2ba-8fe4834145f3",
   "metadata": {},
   "outputs": [
    {
     "data": {
      "text/plain": [
       "array([[False, False, False, False],\n",
       "       [False, False, False, False]])"
      ]
     },
     "execution_count": 94,
     "metadata": {},
     "output_type": "execute_result"
    }
   ],
   "source": [
    "pass_score & ~pass_score"
   ]
  },
  {
   "cell_type": "code",
   "execution_count": 95,
   "id": "bcda02a6-6b82-486c-8c31-9f8548cb8757",
   "metadata": {},
   "outputs": [],
   "source": [
    "#copy and view\n",
    "np_city = np.array(['NYC', 'LA', 'Miami', 'Houstoun'])"
   ]
  },
  {
   "cell_type": "code",
   "execution_count": 96,
   "id": "425d9fee-77f3-41cb-b7f3-d8ba7eb6335b",
   "metadata": {},
   "outputs": [
    {
     "data": {
      "text/plain": [
       "array(['NYC', 'LA', 'Miami', 'Houstoun'], dtype='<U8')"
      ]
     },
     "execution_count": 96,
     "metadata": {},
     "output_type": "execute_result"
    }
   ],
   "source": [
    "np_city"
   ]
  },
  {
   "cell_type": "code",
   "execution_count": 97,
   "id": "6e1a9f9f-6d80-4de9-ac50-382f52277fe1",
   "metadata": {},
   "outputs": [],
   "source": [
    "new_np_city = np_city"
   ]
  },
  {
   "cell_type": "code",
   "execution_count": 98,
   "id": "e5d6662d-dce4-429f-a399-401be757e330",
   "metadata": {},
   "outputs": [
    {
     "data": {
      "text/plain": [
       "array(['NYC', 'LA', 'Miami', 'Houstoun'], dtype='<U8')"
      ]
     },
     "execution_count": 98,
     "metadata": {},
     "output_type": "execute_result"
    }
   ],
   "source": [
    "new_np_city  #Assinged data"
   ]
  },
  {
   "cell_type": "code",
   "execution_count": 99,
   "id": "a80ac902-5f95-4a35-b654-8ada6963c9da",
   "metadata": {},
   "outputs": [
    {
     "data": {
      "text/plain": [
       "True"
      ]
     },
     "execution_count": 99,
     "metadata": {},
     "output_type": "execute_result"
    }
   ],
   "source": [
    "new_np_city is np_city"
   ]
  },
  {
   "cell_type": "code",
   "execution_count": 100,
   "id": "f6dc9bdb-c7ea-492b-a531-e4a7cad26591",
   "metadata": {},
   "outputs": [
    {
     "data": {
      "text/plain": [
       "array(['NYC', 'LA', 'Miami', 'Houstoun'], dtype='<U8')"
      ]
     },
     "execution_count": 100,
     "metadata": {},
     "output_type": "execute_result"
    }
   ],
   "source": [
    "#view or shallow copy\n",
    "new_np_city"
   ]
  },
  {
   "cell_type": "code",
   "execution_count": 101,
   "id": "2dd3ca54-f39e-4ddc-8523-1368c0d6f601",
   "metadata": {},
   "outputs": [],
   "source": [
    "view_of_new_np_city = new_np_city.view()"
   ]
  },
  {
   "cell_type": "code",
   "execution_count": 102,
   "id": "7a8a76ad-b3ac-4b07-961e-f2e4da470eae",
   "metadata": {},
   "outputs": [
    {
     "data": {
      "text/plain": [
       "4"
      ]
     },
     "execution_count": 102,
     "metadata": {},
     "output_type": "execute_result"
    }
   ],
   "source": [
    "len(view_of_new_np_city)"
   ]
  },
  {
   "cell_type": "code",
   "execution_count": 103,
   "id": "c9d6d741-4146-4f11-8ad8-030a66cf9363",
   "metadata": {},
   "outputs": [],
   "source": [
    "view_of_new_np_city[3] = 'Central'"
   ]
  },
  {
   "cell_type": "code",
   "execution_count": 104,
   "id": "93754f7e-1933-4ec6-95dd-019fe3a4d31f",
   "metadata": {},
   "outputs": [
    {
     "data": {
      "text/plain": [
       "array(['NYC', 'LA', 'Miami', 'Central'], dtype='<U8')"
      ]
     },
     "execution_count": 104,
     "metadata": {},
     "output_type": "execute_result"
    }
   ],
   "source": [
    "view_of_new_np_city"
   ]
  },
  {
   "cell_type": "code",
   "execution_count": 105,
   "id": "8b5ef959-f0bb-4072-84c5-f233c48891d1",
   "metadata": {},
   "outputs": [],
   "source": [
    "#Deep Copy\n",
    "copy_of_new_np_city = new_np_city.copy()"
   ]
  },
  {
   "cell_type": "code",
   "execution_count": 106,
   "id": "375392fc-d4f2-46f7-884a-a2095f75f62f",
   "metadata": {},
   "outputs": [
    {
     "data": {
      "text/plain": [
       "array(['NYC', 'LA', 'Miami', 'Central'], dtype='<U8')"
      ]
     },
     "execution_count": 106,
     "metadata": {},
     "output_type": "execute_result"
    }
   ],
   "source": [
    "copy_of_new_np_city"
   ]
  },
  {
   "cell_type": "code",
   "execution_count": 107,
   "id": "7c39cd7f-7199-4a11-951e-90f88b36e423",
   "metadata": {},
   "outputs": [
    {
     "data": {
      "text/plain": [
       "False"
      ]
     },
     "execution_count": 107,
     "metadata": {},
     "output_type": "execute_result"
    }
   ],
   "source": [
    "copy_of_new_np_city is new_np_city"
   ]
  },
  {
   "cell_type": "code",
   "execution_count": 108,
   "id": "b856cc5d-a34f-4ad8-9298-525fdc53a691",
   "metadata": {},
   "outputs": [],
   "source": [
    "copy_of_new_np_city[1] = 'Delhi'"
   ]
  },
  {
   "cell_type": "code",
   "execution_count": 109,
   "id": "daf8db95-480a-4574-ae38-71ce70c41204",
   "metadata": {},
   "outputs": [
    {
     "data": {
      "text/plain": [
       "array(['NYC', 'Delhi', 'Miami', 'Central'], dtype='<U8')"
      ]
     },
     "execution_count": 109,
     "metadata": {},
     "output_type": "execute_result"
    }
   ],
   "source": [
    "copy_of_new_np_city"
   ]
  },
  {
   "cell_type": "code",
   "execution_count": 110,
   "id": "a5d07638-e037-4b1e-b40e-fd109d9c0e98",
   "metadata": {},
   "outputs": [
    {
     "data": {
      "text/plain": [
       "array(['NYC', 'LA', 'Miami', 'Central'], dtype='<U8')"
      ]
     },
     "execution_count": 110,
     "metadata": {},
     "output_type": "execute_result"
    }
   ],
   "source": [
    "new_np_city"
   ]
  },
  {
   "cell_type": "code",
   "execution_count": 111,
   "id": "5c9491f9-62d9-4571-93f0-86ead73763cf",
   "metadata": {},
   "outputs": [
    {
     "data": {
      "text/plain": [
       "array([3.16227766, 3.87298335, 4.12310563, 5.09901951])"
      ]
     },
     "execution_count": 111,
     "metadata": {},
     "output_type": "execute_result"
    }
   ],
   "source": [
    "#universal function \n",
    "#Sqrt, cosine , floor, exp\n",
    "np_sqrt = np.sqrt(np_distance)\n",
    "np_sqrt"
   ]
  },
  {
   "cell_type": "code",
   "execution_count": 112,
   "id": "ebc2ccbd-dfd5-4d4a-bc92-be876aaa0aac",
   "metadata": {},
   "outputs": [
    {
     "data": {
      "text/plain": [
       "1.0"
      ]
     },
     "execution_count": 112,
     "metadata": {},
     "output_type": "execute_result"
    }
   ],
   "source": [
    "np.cos(0)"
   ]
  },
  {
   "cell_type": "code",
   "execution_count": 113,
   "id": "673caf75-d46c-4d13-b96d-1eb4289c8b24",
   "metadata": {},
   "outputs": [
    {
     "data": {
      "text/plain": [
       "1.0"
      ]
     },
     "execution_count": 113,
     "metadata": {},
     "output_type": "execute_result"
    }
   ],
   "source": [
    "np.sin(np.pi/2)"
   ]
  },
  {
   "cell_type": "code",
   "execution_count": 114,
   "id": "abd590e0-f3b4-49d1-9560-7503af652ce4",
   "metadata": {},
   "outputs": [],
   "source": [
    "from numpy import pi"
   ]
  },
  {
   "cell_type": "code",
   "execution_count": 115,
   "id": "1d5e9ecb-0fe4-4c54-af80-44988f4f471f",
   "metadata": {},
   "outputs": [
    {
     "data": {
      "text/plain": [
       "1.0"
      ]
     },
     "execution_count": 115,
     "metadata": {},
     "output_type": "execute_result"
    }
   ],
   "source": [
    "np.sin(pi/2)"
   ]
  },
  {
   "cell_type": "code",
   "execution_count": 116,
   "id": "357bb592-5b90-4518-9b2a-05edc36eff72",
   "metadata": {},
   "outputs": [
    {
     "data": {
      "text/plain": [
       "array([1., 1., 6., 8.])"
      ]
     },
     "execution_count": 116,
     "metadata": {},
     "output_type": "execute_result"
    }
   ],
   "source": [
    "np.floor([1.3,1.5,6.7,8.6])"
   ]
  },
  {
   "cell_type": "code",
   "execution_count": 117,
   "id": "95a0d071-b110-4f48-a469-7c3e84df4542",
   "metadata": {},
   "outputs": [
    {
     "data": {
      "text/plain": [
       "array([  1.        ,   2.71828183, 148.4131591 ])"
      ]
     },
     "execution_count": 117,
     "metadata": {},
     "output_type": "execute_result"
    }
   ],
   "source": [
    "np.exp([0,1,5])"
   ]
  },
  {
   "cell_type": "code",
   "execution_count": 118,
   "id": "d46ee9ab-4ede-45aa-bbec-e2c102f6bdac",
   "metadata": {},
   "outputs": [],
   "source": [
    "#shape manupluation\n",
    "#ravel, split, flatten, resize, reshape, stack"
   ]
  },
  {
   "cell_type": "code",
   "execution_count": 119,
   "id": "6754883e-1ec2-4c53-af20-d39599b843ec",
   "metadata": {},
   "outputs": [
    {
     "data": {
      "text/plain": [
       "array([[10, 15, 17, 26],\n",
       "       [12, 14, 19, 56]])"
      ]
     },
     "execution_count": 119,
     "metadata": {},
     "output_type": "execute_result"
    }
   ],
   "source": [
    "cyclist_trails"
   ]
  },
  {
   "cell_type": "code",
   "execution_count": 124,
   "id": "6ecc4b3e-47f4-46e6-bebd-c4ed6a86631c",
   "metadata": {},
   "outputs": [
    {
     "data": {
      "text/plain": [
       "array([10, 15, 17, 26, 12, 14, 19, 56])"
      ]
     },
     "execution_count": 124,
     "metadata": {},
     "output_type": "execute_result"
    }
   ],
   "source": [
    "new_one_D_array = cyclist_trails.ravel() # convert same array into 1 D\n",
    "new_one_D_array"
   ]
  },
  {
   "cell_type": "code",
   "execution_count": 125,
   "id": "54dd0683-fc27-44a6-9eb0-6f6a0377c130",
   "metadata": {},
   "outputs": [
    {
     "data": {
      "text/plain": [
       "array([10, 15, 17, 26, 12, 14, 19, 56])"
      ]
     },
     "execution_count": 125,
     "metadata": {},
     "output_type": "execute_result"
    }
   ],
   "source": [
    "#flattening of the array -> copy the array\n",
    "new_one_D_array = cyclist_trails.flatten()\n",
    "new_one_D_array"
   ]
  },
  {
   "cell_type": "code",
   "execution_count": 122,
   "id": "e2e67292-5580-462f-b265-1d50458e75e8",
   "metadata": {},
   "outputs": [
    {
     "data": {
      "text/plain": [
       "(8,)"
      ]
     },
     "execution_count": 122,
     "metadata": {},
     "output_type": "execute_result"
    }
   ],
   "source": [
    "new_one_D_array.shape"
   ]
  },
  {
   "cell_type": "code",
   "execution_count": 123,
   "id": "c7d02af9-4ad8-46a5-9f47-e95802f67993",
   "metadata": {},
   "outputs": [
    {
     "data": {
      "text/plain": [
       "1"
      ]
     },
     "execution_count": 123,
     "metadata": {},
     "output_type": "execute_result"
    }
   ],
   "source": [
    "new_one_D_array.ndim"
   ]
  },
  {
   "cell_type": "code",
   "execution_count": 126,
   "id": "c044ef70-7f14-4d9d-9ac5-da3a9bc120a7",
   "metadata": {},
   "outputs": [
    {
     "data": {
      "text/plain": [
       "array([[10, 15],\n",
       "       [17, 26],\n",
       "       [12, 14],\n",
       "       [19, 56]])"
      ]
     },
     "execution_count": 126,
     "metadata": {},
     "output_type": "execute_result"
    }
   ],
   "source": [
    "new_one_D_array.reshape(4,2)"
   ]
  },
  {
   "cell_type": "code",
   "execution_count": 129,
   "id": "7e0643a4-b5cc-434b-8107-542772b81412",
   "metadata": {},
   "outputs": [
    {
     "data": {
      "text/plain": [
       "array([[10],\n",
       "       [15],\n",
       "       [17],\n",
       "       [26],\n",
       "       [12],\n",
       "       [14],\n",
       "       [19],\n",
       "       [56]])"
      ]
     },
     "execution_count": 129,
     "metadata": {},
     "output_type": "execute_result"
    }
   ],
   "source": [
    "new_one_D_array.reshape(8,1)"
   ]
  },
  {
   "cell_type": "code",
   "execution_count": 136,
   "id": "5f66cec2-e9a2-4dfb-9dae-f4c7c51ea5cd",
   "metadata": {},
   "outputs": [
    {
     "data": {
      "text/plain": [
       "[array([10, 15]), array([17, 26]), array([12, 14]), array([19, 56])]"
      ]
     },
     "execution_count": 136,
     "metadata": {},
     "output_type": "execute_result"
    }
   ],
   "source": [
    "np.hsplit(new_one_D_array, 4)"
   ]
  },
  {
   "cell_type": "code",
   "execution_count": 137,
   "id": "dc0f90bd-8e66-4fdc-bb70-900fc030d93a",
   "metadata": {},
   "outputs": [
    {
     "data": {
      "text/plain": [
       "array([10, 15, 17, 26, 12, 14, 19, 56, 10, 15, 17, 26, 12, 14, 19, 56])"
      ]
     },
     "execution_count": 137,
     "metadata": {},
     "output_type": "execute_result"
    }
   ],
   "source": [
    "np.hstack((new_one_D_array, new_one_D_array))"
   ]
  },
  {
   "cell_type": "code",
   "execution_count": null,
   "id": "bd2b22bf-0f6c-4728-aa2b-ef5cc260e1d9",
   "metadata": {},
   "outputs": [],
   "source": []
  }
 ],
 "metadata": {
  "kernelspec": {
   "display_name": "Python 3 (ipykernel)",
   "language": "python",
   "name": "python3"
  },
  "language_info": {
   "codemirror_mode": {
    "name": "ipython",
    "version": 3
   },
   "file_extension": ".py",
   "mimetype": "text/x-python",
   "name": "python",
   "nbconvert_exporter": "python",
   "pygments_lexer": "ipython3",
   "version": "3.12.1"
  }
 },
 "nbformat": 4,
 "nbformat_minor": 5
}
